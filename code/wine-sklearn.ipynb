{
 "cells": [
  {
   "cell_type": "markdown",
   "id": "709dc801-bc0b-4c2c-ab52-26b3de1b10b4",
   "metadata": {},
   "source": [
    "The usual suspects - imports. You only need run this once."
   ]
  },
  {
   "cell_type": "code",
   "execution_count": 11,
   "id": "63528a79-842d-44ec-9109-29df1621cef8",
   "metadata": {},
   "outputs": [],
   "source": [
    "import matplotlib.pyplot as plt\n",
    "import numpy as np\n",
    "import pandas as pd\n",
    "import seaborn as sns\n",
    "from sklearn.metrics import classification_report, confusion_matrix\n",
    "from sklearn.utils import resample\n",
    "from sklearn.model_selection import train_test_split\n",
    "from sklearn.preprocessing import StandardScaler"
   ]
  },
  {
   "cell_type": "markdown",
   "id": "2031a1c7-636b-4b16-89fa-aed0362c5b83",
   "metadata": {},
   "source": [
    "Load the data and split it into features vs labels subsets. Again, only need to run it once."
   ]
  },
  {
   "cell_type": "code",
   "execution_count": 4,
   "id": "d106a41b-e75c-4ca0-96e1-0e5b117992bf",
   "metadata": {},
   "outputs": [],
   "source": [
    "wine_data = pd.read_csv(\"../WineQT.csv\", delimiter=\",\")\n",
    "wine_features = wine_data.drop(\"quality\", axis=1).drop(\"Id\", axis=1)\n",
    "wine_labels = np.ravel(wine_data['quality'])"
   ]
  },
  {
   "cell_type": "markdown",
   "id": "4b143574-6353-4438-8d2f-0483d573a203",
   "metadata": {},
   "source": [
    "Check the data samples."
   ]
  },
  {
   "cell_type": "code",
   "execution_count": 5,
   "id": "bc35067f-473e-4472-974c-c9385ba5e3da",
   "metadata": {},
   "outputs": [
    {
     "data": {
      "text/html": [
       "<div>\n",
       "<style scoped>\n",
       "    .dataframe tbody tr th:only-of-type {\n",
       "        vertical-align: middle;\n",
       "    }\n",
       "\n",
       "    .dataframe tbody tr th {\n",
       "        vertical-align: top;\n",
       "    }\n",
       "\n",
       "    .dataframe thead th {\n",
       "        text-align: right;\n",
       "    }\n",
       "</style>\n",
       "<table border=\"1\" class=\"dataframe\">\n",
       "  <thead>\n",
       "    <tr style=\"text-align: right;\">\n",
       "      <th></th>\n",
       "      <th>fixed acidity</th>\n",
       "      <th>volatile acidity</th>\n",
       "      <th>citric acid</th>\n",
       "      <th>residual sugar</th>\n",
       "      <th>chlorides</th>\n",
       "      <th>free sulfur dioxide</th>\n",
       "      <th>total sulfur dioxide</th>\n",
       "      <th>density</th>\n",
       "      <th>pH</th>\n",
       "      <th>sulphates</th>\n",
       "      <th>alcohol</th>\n",
       "    </tr>\n",
       "  </thead>\n",
       "  <tbody>\n",
       "    <tr>\n",
       "      <th>0</th>\n",
       "      <td>7.4</td>\n",
       "      <td>0.700</td>\n",
       "      <td>0.00</td>\n",
       "      <td>1.9</td>\n",
       "      <td>0.076</td>\n",
       "      <td>11.0</td>\n",
       "      <td>34.0</td>\n",
       "      <td>0.99780</td>\n",
       "      <td>3.51</td>\n",
       "      <td>0.56</td>\n",
       "      <td>9.4</td>\n",
       "    </tr>\n",
       "    <tr>\n",
       "      <th>1</th>\n",
       "      <td>7.8</td>\n",
       "      <td>0.880</td>\n",
       "      <td>0.00</td>\n",
       "      <td>2.6</td>\n",
       "      <td>0.098</td>\n",
       "      <td>25.0</td>\n",
       "      <td>67.0</td>\n",
       "      <td>0.99680</td>\n",
       "      <td>3.20</td>\n",
       "      <td>0.68</td>\n",
       "      <td>9.8</td>\n",
       "    </tr>\n",
       "    <tr>\n",
       "      <th>2</th>\n",
       "      <td>7.8</td>\n",
       "      <td>0.760</td>\n",
       "      <td>0.04</td>\n",
       "      <td>2.3</td>\n",
       "      <td>0.092</td>\n",
       "      <td>15.0</td>\n",
       "      <td>54.0</td>\n",
       "      <td>0.99700</td>\n",
       "      <td>3.26</td>\n",
       "      <td>0.65</td>\n",
       "      <td>9.8</td>\n",
       "    </tr>\n",
       "    <tr>\n",
       "      <th>3</th>\n",
       "      <td>11.2</td>\n",
       "      <td>0.280</td>\n",
       "      <td>0.56</td>\n",
       "      <td>1.9</td>\n",
       "      <td>0.075</td>\n",
       "      <td>17.0</td>\n",
       "      <td>60.0</td>\n",
       "      <td>0.99800</td>\n",
       "      <td>3.16</td>\n",
       "      <td>0.58</td>\n",
       "      <td>9.8</td>\n",
       "    </tr>\n",
       "    <tr>\n",
       "      <th>4</th>\n",
       "      <td>7.4</td>\n",
       "      <td>0.700</td>\n",
       "      <td>0.00</td>\n",
       "      <td>1.9</td>\n",
       "      <td>0.076</td>\n",
       "      <td>11.0</td>\n",
       "      <td>34.0</td>\n",
       "      <td>0.99780</td>\n",
       "      <td>3.51</td>\n",
       "      <td>0.56</td>\n",
       "      <td>9.4</td>\n",
       "    </tr>\n",
       "    <tr>\n",
       "      <th>...</th>\n",
       "      <td>...</td>\n",
       "      <td>...</td>\n",
       "      <td>...</td>\n",
       "      <td>...</td>\n",
       "      <td>...</td>\n",
       "      <td>...</td>\n",
       "      <td>...</td>\n",
       "      <td>...</td>\n",
       "      <td>...</td>\n",
       "      <td>...</td>\n",
       "      <td>...</td>\n",
       "    </tr>\n",
       "    <tr>\n",
       "      <th>1138</th>\n",
       "      <td>6.3</td>\n",
       "      <td>0.510</td>\n",
       "      <td>0.13</td>\n",
       "      <td>2.3</td>\n",
       "      <td>0.076</td>\n",
       "      <td>29.0</td>\n",
       "      <td>40.0</td>\n",
       "      <td>0.99574</td>\n",
       "      <td>3.42</td>\n",
       "      <td>0.75</td>\n",
       "      <td>11.0</td>\n",
       "    </tr>\n",
       "    <tr>\n",
       "      <th>1139</th>\n",
       "      <td>6.8</td>\n",
       "      <td>0.620</td>\n",
       "      <td>0.08</td>\n",
       "      <td>1.9</td>\n",
       "      <td>0.068</td>\n",
       "      <td>28.0</td>\n",
       "      <td>38.0</td>\n",
       "      <td>0.99651</td>\n",
       "      <td>3.42</td>\n",
       "      <td>0.82</td>\n",
       "      <td>9.5</td>\n",
       "    </tr>\n",
       "    <tr>\n",
       "      <th>1140</th>\n",
       "      <td>6.2</td>\n",
       "      <td>0.600</td>\n",
       "      <td>0.08</td>\n",
       "      <td>2.0</td>\n",
       "      <td>0.090</td>\n",
       "      <td>32.0</td>\n",
       "      <td>44.0</td>\n",
       "      <td>0.99490</td>\n",
       "      <td>3.45</td>\n",
       "      <td>0.58</td>\n",
       "      <td>10.5</td>\n",
       "    </tr>\n",
       "    <tr>\n",
       "      <th>1141</th>\n",
       "      <td>5.9</td>\n",
       "      <td>0.550</td>\n",
       "      <td>0.10</td>\n",
       "      <td>2.2</td>\n",
       "      <td>0.062</td>\n",
       "      <td>39.0</td>\n",
       "      <td>51.0</td>\n",
       "      <td>0.99512</td>\n",
       "      <td>3.52</td>\n",
       "      <td>0.76</td>\n",
       "      <td>11.2</td>\n",
       "    </tr>\n",
       "    <tr>\n",
       "      <th>1142</th>\n",
       "      <td>5.9</td>\n",
       "      <td>0.645</td>\n",
       "      <td>0.12</td>\n",
       "      <td>2.0</td>\n",
       "      <td>0.075</td>\n",
       "      <td>32.0</td>\n",
       "      <td>44.0</td>\n",
       "      <td>0.99547</td>\n",
       "      <td>3.57</td>\n",
       "      <td>0.71</td>\n",
       "      <td>10.2</td>\n",
       "    </tr>\n",
       "  </tbody>\n",
       "</table>\n",
       "<p>1143 rows × 11 columns</p>\n",
       "</div>"
      ],
      "text/plain": [
       "      fixed acidity  volatile acidity  citric acid  residual sugar  chlorides  \\\n",
       "0               7.4             0.700         0.00             1.9      0.076   \n",
       "1               7.8             0.880         0.00             2.6      0.098   \n",
       "2               7.8             0.760         0.04             2.3      0.092   \n",
       "3              11.2             0.280         0.56             1.9      0.075   \n",
       "4               7.4             0.700         0.00             1.9      0.076   \n",
       "...             ...               ...          ...             ...        ...   \n",
       "1138            6.3             0.510         0.13             2.3      0.076   \n",
       "1139            6.8             0.620         0.08             1.9      0.068   \n",
       "1140            6.2             0.600         0.08             2.0      0.090   \n",
       "1141            5.9             0.550         0.10             2.2      0.062   \n",
       "1142            5.9             0.645         0.12             2.0      0.075   \n",
       "\n",
       "      free sulfur dioxide  total sulfur dioxide  density    pH  sulphates  \\\n",
       "0                    11.0                  34.0  0.99780  3.51       0.56   \n",
       "1                    25.0                  67.0  0.99680  3.20       0.68   \n",
       "2                    15.0                  54.0  0.99700  3.26       0.65   \n",
       "3                    17.0                  60.0  0.99800  3.16       0.58   \n",
       "4                    11.0                  34.0  0.99780  3.51       0.56   \n",
       "...                   ...                   ...      ...   ...        ...   \n",
       "1138                 29.0                  40.0  0.99574  3.42       0.75   \n",
       "1139                 28.0                  38.0  0.99651  3.42       0.82   \n",
       "1140                 32.0                  44.0  0.99490  3.45       0.58   \n",
       "1141                 39.0                  51.0  0.99512  3.52       0.76   \n",
       "1142                 32.0                  44.0  0.99547  3.57       0.71   \n",
       "\n",
       "      alcohol  \n",
       "0         9.4  \n",
       "1         9.8  \n",
       "2         9.8  \n",
       "3         9.8  \n",
       "4         9.4  \n",
       "...       ...  \n",
       "1138     11.0  \n",
       "1139      9.5  \n",
       "1140     10.5  \n",
       "1141     11.2  \n",
       "1142     10.2  \n",
       "\n",
       "[1143 rows x 11 columns]"
      ]
     },
     "execution_count": 5,
     "metadata": {},
     "output_type": "execute_result"
    }
   ],
   "source": [
    "wine_features"
   ]
  },
  {
   "cell_type": "code",
   "execution_count": 6,
   "id": "1280fce3-3b58-43b3-9276-750cb4b0d16e",
   "metadata": {},
   "outputs": [
    {
     "data": {
      "text/plain": [
       "array([5, 5, 5, ..., 5, 6, 5], shape=(1143,))"
      ]
     },
     "execution_count": 6,
     "metadata": {},
     "output_type": "execute_result"
    }
   ],
   "source": [
    "wine_labels"
   ]
  },
  {
   "cell_type": "markdown",
   "id": "6dcb8fc8-b56f-4975-a815-e8c9ad55afce",
   "metadata": {},
   "source": [
    "Split the dataset into train and test subsets, as is common.\n",
    "\n",
    "NOTE: While it may be tempting to get creative with variable names, such as `features_train`, `features_test`, `labels_train`, `labels_test`, etc., it's been proven it's WAY TOO MUCH typing, ends up being too confusing, and most examples use `x` for features (as in, input data) and `y` for labels (as in, results)."
   ]
  },
  {
   "cell_type": "code",
   "execution_count": 15,
   "id": "c446ebbc-e0a9-4322-a713-8c839c244c8e",
   "metadata": {},
   "outputs": [],
   "source": [
    "x_train, x_test, y_train, y_test = train_test_split(wine_features, wine_labels, test_size=0.2, random_state=50)"
   ]
  },
  {
   "cell_type": "markdown",
   "id": "db09f1be-05ce-4b37-b4c4-c2e974e4434c",
   "metadata": {},
   "source": [
    "Again, verify the data set sizes and samples."
   ]
  },
  {
   "cell_type": "code",
   "execution_count": 16,
   "id": "65029b18-57b9-4829-b2fa-a51447b2188d",
   "metadata": {},
   "outputs": [
    {
     "name": "stdout",
     "output_type": "stream",
     "text": [
      "train: 914 test: 229\n"
     ]
    }
   ],
   "source": [
    "print(\"train:\", len(x_train), \"test:\", len(x_test))"
   ]
  },
  {
   "cell_type": "code",
   "execution_count": 17,
   "id": "cbb0be13-83c5-4751-9061-14ed9632a36e",
   "metadata": {},
   "outputs": [
    {
     "name": "stdout",
     "output_type": "stream",
     "text": [
      "sample:\n",
      "       fixed acidity  volatile acidity  citric acid  residual sugar  chlorides  \\\n",
      "287             9.9              0.40         0.53             6.7      0.097   \n",
      "147             7.8              0.44         0.28             2.7      0.100   \n",
      "177            11.1              0.35         0.48             3.1      0.090   \n",
      "1094            7.2              0.53         0.13             2.0      0.058   \n",
      "305            10.4              0.41         0.55             3.2      0.076   \n",
      "\n",
      "      free sulfur dioxide  total sulfur dioxide  density    pH  sulphates  \\\n",
      "287                   6.0                  19.0  0.99860  3.27       0.82   \n",
      "147                  18.0                  95.0  0.99660  3.22       0.67   \n",
      "177                   5.0                  21.0  0.99860  3.17       0.53   \n",
      "1094                 18.0                  22.0  0.99573  3.21       0.68   \n",
      "305                  22.0                  54.0  0.99960  3.15       0.89   \n",
      "\n",
      "      alcohol  \n",
      "287      11.7  \n",
      "147       9.4  \n",
      "177      10.5  \n",
      "1094      9.9  \n",
      "305       9.9  \n"
     ]
    }
   ],
   "source": [
    "print(\"sample:\\n\", resample(x_train, n_samples=5))"
   ]
  },
  {
   "cell_type": "markdown",
   "id": "58820df2-cb5d-43ea-bdbd-98f5b6d4504a",
   "metadata": {},
   "source": [
    "Note that the data above is distributed along different ranges in the columns. We need to normalise it, meaning spreading all of it on a scale `a..b`, where `a` and `b` are the same for each column."
   ]
  },
  {
   "cell_type": "code",
   "execution_count": 18,
   "id": "e3aaa169-e086-4a19-865d-557c0c2aa210",
   "metadata": {},
   "outputs": [],
   "source": [
    "scaler = StandardScaler().fit(x_train)\n",
    "nx_train = scaler.transform(x_train)\n",
    "nx_test = scaler.transform(x_test)"
   ]
  },
  {
   "cell_type": "markdown",
   "id": "037a68de-2827-413f-b54a-de365e34fee7",
   "metadata": {},
   "source": [
    "Review the data set now."
   ]
  },
  {
   "cell_type": "code",
   "execution_count": 19,
   "id": "1626bb97-75b9-4685-801e-733d624c701b",
   "metadata": {},
   "outputs": [
    {
     "name": "stdout",
     "output_type": "stream",
     "text": [
      "normalised sample:\n",
      " [[-0.36337554  0.30744761 -0.88665518 -0.56520518  0.37265697  1.25154072\n",
      "   1.96409859 -0.55957907 -1.4666001  -1.03970354 -0.61549675]\n",
      " [-0.75789051 -0.09066002 -0.93801151 -0.3273245  -0.54314184 -1.14742793\n",
      "  -1.15154328 -0.46240645  0.24877775 -0.72667599  0.03054512]\n",
      " [-0.58881267  0.93304531  0.24318401 -0.24803095 -0.38287705  1.95123991\n",
      "   1.80831649 -0.21691774  0.12171272 -0.91449252 -0.89237183]\n",
      " [-1.7159983   0.25057509 -1.34886212 -0.64449874 -0.7263016  -1.0474709\n",
      "  -0.59072774 -1.71030739  1.64649303  1.15148931  1.87637902]\n",
      " [ 0.31293584  1.27428042 -0.68122987 -0.01015027  0.00633745 -0.6476428\n",
      "  -0.49725849  0.76503709  0.18524524 -0.10062089  0.03054512]]\n"
     ]
    }
   ],
   "source": [
    "print(\"normalised sample:\\n\", resample(nx_train, n_samples=5))"
   ]
  },
  {
   "cell_type": "markdown",
   "id": "5b8052e0-5170-4dee-8cc4-a3cb844f8bac",
   "metadata": {},
   "source": [
    "Time to rock & roll! Let's train the SVC model."
   ]
  },
  {
   "cell_type": "code",
   "execution_count": 26,
   "id": "a1ee2d09-caed-4d39-ab51-cc27504753ef",
   "metadata": {},
   "outputs": [
    {
     "name": "stdout",
     "output_type": "stream",
     "text": [
      "**** TESTING C-Support Vector Classification ****\n",
      "x: predictions, y: labels\n",
      "    0   1   2   3   4   5   6   7   8   9   10\n",
      "0    0   0   0   0   0   0   0   0   0   0   0\n",
      "1    0   0   0   0   0   0   0   0   0   0   0\n",
      "2    0   0   0   0   0   0   0   0   0   0   0\n",
      "3    0   0   0   0   0   2   0   0   0   0   0\n",
      "4    0   0   0   0   0   6   4   1   0   0   0\n",
      "5    0   0   0   0   0  78  21   0   0   0   0\n",
      "6    0   0   0   0   0  29  50   0   0   0   0\n",
      "7    0   0   0   0   0   1  27   9   0   0   0\n",
      "8    0   0   0   0   0   0   1   0   0   0   0\n",
      "9    0   0   0   0   0   0   0   0   0   0   0\n",
      "10   0   0   0   0   0   0   0   0   0   0   0\n"
     ]
    }
   ],
   "source": [
    "print(\"**** TESTING C-Support Vector Classification ****\")\n",
    "\n",
    "from sklearn.svm import SVC\n",
    "\n",
    "svc_model = SVC()\n",
    "svc_model.fit(nx_train, y_train)\n",
    "\n",
    "# now test the fitness with the test subset\n",
    "svc_y_predict = svc_model.predict(nx_test)\n",
    "\n",
    "# visualise it\n",
    "print(\"x: predictions, y: labels\")\n",
    "svc_cm = np.array(confusion_matrix(y_test, svc_y_predict, labels=[0,1,2,3,4,5,6,7,8,9,10]))\n",
    "svc_conf_matrix = pd.DataFrame(svc_cm)\n",
    "print(svc_conf_matrix)"
   ]
  },
  {
   "cell_type": "markdown",
   "id": "3d073dda-0280-4712-9528-92febd914b56",
   "metadata": {},
   "source": [
    "Visualise the SVC model performance in a nice heatmap graph."
   ]
  },
  {
   "cell_type": "code",
   "execution_count": 27,
   "id": "82e77e4a-c700-426c-98a7-8f338bf5f393",
   "metadata": {},
   "outputs": [
    {
     "data": {
      "image/png": "[encoded data removed]",
      "text/plain": [
       "<Figure size 640x480 with 2 Axes>"
      ]
     },
     "metadata": {},
     "output_type": "display_data"
    }
   ],
   "source": [
    "sns.heatmap(svc_conf_matrix, annot=True, fmt='g')\n",
    "plt.show()"
   ]
  },
  {
   "cell_type": "markdown",
   "id": "6b703fb4-54ca-418b-9302-fa26b70c64e1",
   "metadata": {},
   "source": [
    "Try another, simpler, visualisation."
   ]
  },
  {
   "cell_type": "code",
   "execution_count": 31,
   "id": "f5179d4f-cc22-4f0d-8ae8-b4e802bdcf24",
   "metadata": {},
   "outputs": [
    {
     "data": {
      "text/plain": [
       "<matplotlib.collections.PathCollection at 0x179ef1310>"
      ]
     },
     "execution_count": 31,
     "metadata": {},
     "output_type": "execute_result"
    },
    {
     "data": {
      "image/png": "[encoded data removed]",
      "text/plain": [
       "<Figure size 640x480 with 1 Axes>"
      ]
     },
     "metadata": {},
     "output_type": "display_data"
    }
   ],
   "source": [
    "plt.scatter(range(0, len(y_test)), y_test, color = 'blue')\n",
    "plt.scatter(range(0, len(y_test)), svc_y_predict, color = 'green')"
   ]
  },
  {
   "cell_type": "markdown",
   "id": "1cc38f1e-638a-4cb9-ad1c-9e5cefc46bae",
   "metadata": {},
   "source": [
    "Now let's try and train the NuSVC model, too."
   ]
  },
  {
   "cell_type": "code",
   "execution_count": 28,
   "id": "cdf2c8ae-d024-4687-b1df-23804f3d9816",
   "metadata": {},
   "outputs": [
    {
     "name": "stdout",
     "output_type": "stream",
     "text": [
      "**** TESTING Nu-Support Vector Classification ****\n",
      "x: predictions, y: labels\n",
      "    0   1   2   3   4   5   6   7   8   9   10\n",
      "0    0   0   0   0   0   0   0   0   0   0   0\n",
      "1    0   0   0   0   0   0   0   0   0   0   0\n",
      "2    0   0   0   0   0   0   0   0   0   0   0\n",
      "3    0   0   0   0   0   2   0   0   0   0   0\n",
      "4    0   0   0   0   0   6   4   1   0   0   0\n",
      "5    0   0   0   0   0  78  21   0   0   0   0\n",
      "6    0   0   0   0   0  29  50   0   0   0   0\n",
      "7    0   0   0   0   0   1  27   9   0   0   0\n",
      "8    0   0   0   0   0   0   1   0   0   0   0\n",
      "9    0   0   0   0   0   0   0   0   0   0   0\n",
      "10   0   0   0   0   0   0   0   0   0   0   0\n"
     ]
    }
   ],
   "source": [
    "print(\"**** TESTING Nu-Support Vector Classification ****\")\n",
    "\n",
    "from sklearn.svm import NuSVC\n",
    "\n",
    "nusvc_model = NuSVC(nu=0.015)\n",
    "nusvc_model.fit(nx_train, y_train)\n",
    "\n",
    "# now test the fitness with the test subset\n",
    "nusvc_y_predict = svc_model.predict(nx_test)\n",
    "\n",
    "# visualise it\n",
    "print(\"x: predictions, y: labels\")\n",
    "nu_cm = np.array(confusion_matrix(y_test, nusvc_y_predict, labels=[0,1,2,3,4,5,6,7,8,9,10]))\n",
    "nu_conf_matrix = pd.DataFrame(nu_cm)\n",
    "print(nu_conf_matrix)"
   ]
  },
  {
   "cell_type": "markdown",
   "id": "aec6f94d-82f7-493e-9e75-69928c171d38",
   "metadata": {},
   "source": [
    "Visualise the NuSVC model performance in a nice heatmap graph as well."
   ]
  },
  {
   "cell_type": "code",
   "execution_count": 29,
   "id": "4ef4f484-5664-45dd-a5aa-2909276cedc8",
   "metadata": {},
   "outputs": [
    {
     "data": {
      "image/png": "[encoded data removed]",
      "text/plain": [
       "<Figure size 640x480 with 2 Axes>"
      ]
     },
     "metadata": {},
     "output_type": "display_data"
    }
   ],
   "source": [
    "# visualise the NuSVC model in a nice picture\n",
    "sns.heatmap(nu_conf_matrix, annot=True, fmt='g')\n",
    "plt.show()"
   ]
  },
  {
   "cell_type": "markdown",
   "id": "06f9779a-e872-4b1b-9845-055ccc43959f",
   "metadata": {},
   "source": [
    "Similarly, try the 2D visualisation."
   ]
  },
  {
   "cell_type": "code",
   "execution_count": 32,
   "id": "5a686250-56d9-4691-948f-dc4bf5a0865f",
   "metadata": {},
   "outputs": [
    {
     "data": {
      "text/plain": [
       "<matplotlib.collections.PathCollection at 0x179f5ad50>"
      ]
     },
     "execution_count": 32,
     "metadata": {},
     "output_type": "execute_result"
    },
    {
     "data": {
      "image/png": "[encoded data removed]",
      "text/plain": [
       "<Figure size 640x480 with 1 Axes>"
      ]
     },
     "metadata": {},
     "output_type": "display_data"
    }
   ],
   "source": [
    "plt.scatter(range(0, len(y_test)), y_test, color = 'blue')\n",
    "plt.scatter(range(0, len(y_test)), nusvc_y_predict, color = 'green')"
   ]
  },
  {
   "cell_type": "markdown",
   "id": "7a1980f6-222f-49e2-a67a-bd502abc7b92",
   "metadata": {},
   "source": [
    "It would appear that in this case, and with all the default settings, there is no difference beteren `SVC` and `NuSVC` models."
   ]
  },
  {
   "cell_type": "markdown",
   "id": "1f7fd519-4460-4138-a4fd-1d8c43f19bba",
   "metadata": {},
   "source": [
    "Let's try our luck with a regression model as well - `SVR` is one such possibility."
   ]
  },
  {
   "cell_type": "code",
   "execution_count": 34,
   "id": "1ff5d2c3-e979-434f-a6ac-355c68832952",
   "metadata": {},
   "outputs": [
    {
     "name": "stdout",
     "output_type": "stream",
     "text": [
      "**** TESTING C-Support Vector Regression ****\n"
     ]
    }
   ],
   "source": [
    "print(\"**** TESTING C-Support Vector Regression ****\")\n",
    "\n",
    "from sklearn.svm import SVR\n",
    "\n",
    "svr_model = SVR(kernel=\"rbf\")\n",
    "svr_model.fit(x_train, y_train)\n",
    "\n",
    "# now test the fitness with the test subset\n",
    "svr_y_predict = svr_model.predict(x_test)"
   ]
  },
  {
   "cell_type": "markdown",
   "id": "912bae5a-e75c-4e7e-94db-dd47f6a57e55",
   "metadata": {},
   "source": [
    "Again, try a 2D visualisation of results."
   ]
  },
  {
   "cell_type": "code",
   "execution_count": 35,
   "id": "4a339cfd-fcbb-4c94-9827-b77b2d470ec8",
   "metadata": {},
   "outputs": [
    {
     "data": {
      "text/plain": [
       "<matplotlib.collections.PathCollection at 0x179fe47d0>"
      ]
     },
     "execution_count": 35,
     "metadata": {},
     "output_type": "execute_result"
    },
    {
     "data": {
      "image/png": "[encoded data removed]",
      "text/plain": [
       "<Figure size 640x480 with 1 Axes>"
      ]
     },
     "metadata": {},
     "output_type": "display_data"
    }
   ],
   "source": [
    "plt.scatter(range(0, len(y_test)), y_test, color = 'blue')\n",
    "plt.scatter(range(0, len(y_test)), svr_y_predict, color = 'green')"
   ]
  },
  {
   "cell_type": "markdown",
   "id": "d490a2da-0ee2-4385-b094-94e8f7fc2f2f",
   "metadata": {},
   "source": [
    "Feel free to take this on and play with it some more. What is there to do? Here are some ideas:\n",
    "\n",
    "* improve visualisations\n",
    "* experiment with model settings\n",
    "* try different train/test sizes\n"
   ]
  }
 ],
 "metadata": {
  "kernelspec": {
   "display_name": "sklearn-16",
   "language": "python",
   "name": "sklearn-16"
  },
  "language_info": {
   "codemirror_mode": {
    "name": "ipython",
    "version": 3
   },
   "file_extension": ".py",
   "mimetype": "text/x-python",
   "name": "python",
   "nbconvert_exporter": "python",
   "pygments_lexer": "ipython3",
   "version": "3.13.3"
  }
 },
 "nbformat": 4,
 "nbformat_minor": 5
}
